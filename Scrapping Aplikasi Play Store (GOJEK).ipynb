{
  "nbformat": 4,
  "nbformat_minor": 0,
  "metadata": {
    "colab": {
      "provenance": []
    },
    "kernelspec": {
      "name": "python3",
      "display_name": "Python 3"
    },
    "language_info": {
      "name": "python"
    }
  },
  "cells": [
    {
      "cell_type": "markdown",
      "source": [
        "**NAMA : ZULFAA DWI OKTAVIAN** <br>\n",
        "**Email: a406ybm522@devacademy.id** <br>\n",
        "**ID   : A406YBM522**"
      ],
      "metadata": {
        "id": "rUuwGO67nJGB"
      }
    },
    {
      "cell_type": "markdown",
      "source": [
        "# SCRAPPING ULASAN APLIKASI DI PLAYSTORE"
      ],
      "metadata": {
        "id": "TQbSZciGnYzv"
      }
    },
    {
      "cell_type": "code",
      "execution_count": null,
      "metadata": {
        "colab": {
          "base_uri": "https://localhost:8080/"
        },
        "id": "giM5716ek7iQ",
        "outputId": "c70d4e12-3f4a-4932-a7ce-360a981b2252"
      },
      "outputs": [
        {
          "output_type": "stream",
          "name": "stdout",
          "text": [
            "Collecting google-play-scraper\n",
            "  Downloading google_play_scraper-1.2.7-py3-none-any.whl.metadata (50 kB)\n",
            "\u001b[2K     \u001b[90m━━━━━━━━━━━━━━━━━━━━━━━━━━━━━━━━━━━━━━━\u001b[0m \u001b[32m50.2/50.2 kB\u001b[0m \u001b[31m973.4 kB/s\u001b[0m eta \u001b[36m0:00:00\u001b[0m\n",
            "\u001b[?25hDownloading google_play_scraper-1.2.7-py3-none-any.whl (28 kB)\n",
            "Installing collected packages: google-play-scraper\n",
            "Successfully installed google-play-scraper-1.2.7\n"
          ]
        }
      ],
      "source": [
        "pip install google-play-scraper"
      ]
    },
    {
      "cell_type": "code",
      "source": [
        "# Mengimpor pustaka google_play_scraper untuk mengakses ulasan dan informasi aplikasi dari Google Play Store.\n",
        "from google_play_scraper import app, reviews, Sort, reviews_all\n",
        "import pandas as pd  # Pandas untuk manipulasi dan analisis data\n",
        "pd.options.mode.chained_assignment = None  # Menonaktifkan peringatan chaining\n",
        "import numpy as np  # NumPy untuk komputasi numerik\n",
        "seed = 0\n",
        "np.random.seed(seed)  # Mengatur seed untuk reproduktibilitas\n",
        "import matplotlib.pyplot as plt  # Matplotlib untuk visualisasi data\n",
        "import seaborn as sns  # Seaborn untuk visualisasi data statistik, mengatur gaya visualisasi\n",
        "\n",
        "import datetime as dt  # Manipulasi data waktu dan tanggal\n",
        "import re  # Modul untuk bekerja dengan ekspresi reguler\n",
        "import string  # Berisi konstanta string, seperti tanda baca\n",
        "from nltk.tokenize import word_tokenize  # Tokenisasi teks\n",
        "from nltk.corpus import stopwords  # Daftar kata-kata berhenti dalam teks\n",
        "\n",
        "!pip install sastrawi\n",
        "from Sastrawi.Stemmer.StemmerFactory import StemmerFactory  # Stemming (penghilangan imbuhan kata) dalam bahasa Indonesia\n",
        "from Sastrawi.StopWordRemover.StopWordRemoverFactory import StopWordRemoverFactory  # Menghapus kata-kata berhenti dalam bahasa Indonesia\n",
        "\n",
        "from wordcloud import WordCloud  # Membuat visualisasi berbentuk awan kata (word cloud) dari teks\n",
        "import csv\n",
        "import nltk  # Import pustaka NLTK (Natural Language Toolkit).\n",
        "nltk.download('punkt')  # Mengunduh dataset yang diperlukan untuk tokenisasi teks.\n",
        "nltk.download('stopwords')  # Mengunduh dataset yang berisi daftar kata-kata berhenti (stop words) dalam berbagai bahasa.\n"
      ],
      "metadata": {
        "colab": {
          "base_uri": "https://localhost:8080/"
        },
        "id": "ELmfpxAxlH4i",
        "outputId": "6ac92545-b878-4ce0-ff9e-bdda69307637"
      },
      "execution_count": null,
      "outputs": [
        {
          "output_type": "stream",
          "name": "stdout",
          "text": [
            "Collecting sastrawi\n",
            "  Downloading Sastrawi-1.0.1-py2.py3-none-any.whl.metadata (909 bytes)\n",
            "Downloading Sastrawi-1.0.1-py2.py3-none-any.whl (209 kB)\n",
            "\u001b[?25l   \u001b[90m━━━━━━━━━━━━━━━━━━━━━━━━━━━━━━━━━━━━━━━━\u001b[0m \u001b[32m0.0/209.7 kB\u001b[0m \u001b[31m?\u001b[0m eta \u001b[36m-:--:--\u001b[0m\r\u001b[2K   \u001b[91m━━━━━━━━━━━━━━━━━━━━━━━━━━━━━━━━━━━━━━━\u001b[0m\u001b[90m╺\u001b[0m \u001b[32m204.8/209.7 kB\u001b[0m \u001b[31m6.3 MB/s\u001b[0m eta \u001b[36m0:00:01\u001b[0m\r\u001b[2K   \u001b[90m━━━━━━━━━━━━━━━━━━━━━━━━━━━━━━━━━━━━━━━━\u001b[0m \u001b[32m209.7/209.7 kB\u001b[0m \u001b[31m4.8 MB/s\u001b[0m eta \u001b[36m0:00:00\u001b[0m\n",
            "\u001b[?25hInstalling collected packages: sastrawi\n",
            "Successfully installed sastrawi-1.0.1\n"
          ]
        },
        {
          "output_type": "stream",
          "name": "stderr",
          "text": [
            "[nltk_data] Downloading package punkt to /root/nltk_data...\n",
            "[nltk_data]   Unzipping tokenizers/punkt.zip.\n",
            "[nltk_data] Downloading package stopwords to /root/nltk_data...\n",
            "[nltk_data]   Unzipping corpora/stopwords.zip.\n"
          ]
        },
        {
          "output_type": "execute_result",
          "data": {
            "text/plain": [
              "True"
            ]
          },
          "metadata": {},
          "execution_count": 2
        }
      ]
    },
    {
      "cell_type": "code",
      "source": [
        "# Proses scraping mungkin memerlukan beberapa saat tergantung pada jumlah ulasan yang ada.\n",
        "scrapreview = reviews_all(\n",
        "    'com.gojek.app',          # ID aplikasi Access by KAI\n",
        "    lang='id',             # Bahasa ulasan (default: 'en')\n",
        "    country='id',          # Negara (default: 'us')\n",
        "    sort=Sort.MOST_RELEVANT, # Urutan ulasan (default: Sort.MOST_RELEVANT)\n",
        "    count=250000\n",
        ")"
      ],
      "metadata": {
        "id": "nN9g8W1hlXLA"
      },
      "execution_count": null,
      "outputs": []
    },
    {
      "cell_type": "code",
      "source": [
        "# Ambil semua ulasan\n",
        "scrapreview = reviews_all(\n",
        "      'com.kai.kaiticketing',\n",
        "      sleep_milliseconds=10,\n",
        "      lang=\"id\",\n",
        "      country=\"id\"\n",
        "    )"
      ],
      "metadata": {
        "id": "N_WKhlIuWZHS"
      },
      "execution_count": null,
      "outputs": []
    },
    {
      "cell_type": "code",
      "source": [
        "with open('ulasan_aplikasi_kai.csv', mode='w', newline='', encoding='utf-8') as file:\n",
        "    writer = csv.writer(file)\n",
        "    writer.writerow(['Review'])  # Menulis header kolom\n",
        "    for review in scrapreview:\n",
        "        writer.writerow([review['content']])  # Menulis konten ulasan ke dalam file CSV"
      ],
      "metadata": {
        "id": "3g8ZAAtrl2q8"
      },
      "execution_count": null,
      "outputs": []
    },
    {
      "cell_type": "code",
      "source": [
        "app_reviews_df = pd.DataFrame(scrapreview)\n",
        "app_reviews_df.shape\n",
        "app_reviews_df.head()\n",
        "app_reviews_df.to_csv('ulasan_aplikasi_gojek.csv', index=False)"
      ],
      "metadata": {
        "id": "KpJEZUrnl7EM"
      },
      "execution_count": null,
      "outputs": []
    },
    {
      "cell_type": "code",
      "source": [
        "#  Membuat DataFrame dari hasil scrapreview\n",
        "app_reviews_df = pd.DataFrame(scrapreview)\n",
        "\n",
        "# Menghitung jumlah baris dan kolom dalam DataFrame\n",
        "jumlah_ulasan, jumlah_kolom = app_reviews_df.shape"
      ],
      "metadata": {
        "id": "TjnOjMFQl-iE"
      },
      "execution_count": null,
      "outputs": []
    },
    {
      "cell_type": "code",
      "source": [
        "print(jumlah_kolom, jumlah_ulasan)"
      ],
      "metadata": {
        "colab": {
          "base_uri": "https://localhost:8080/"
        },
        "id": "_vG6XmrUnTbw",
        "outputId": "76eed78d-9e00-4891-c77c-ff1689dc1e4d"
      },
      "execution_count": null,
      "outputs": [
        {
          "output_type": "stream",
          "name": "stdout",
          "text": [
            "11 225000\n"
          ]
        }
      ]
    },
    {
      "cell_type": "code",
      "source": [
        "app_reviews_df.shape"
      ],
      "metadata": {
        "colab": {
          "base_uri": "https://localhost:8080/"
        },
        "id": "uPFKtB3AnZDH",
        "outputId": "b45baad4-2bc0-4e7b-8a63-0521f6f746cc"
      },
      "execution_count": null,
      "outputs": [
        {
          "output_type": "execute_result",
          "data": {
            "text/plain": [
              "(225000, 11)"
            ]
          },
          "metadata": {},
          "execution_count": 36
        }
      ]
    },
    {
      "cell_type": "code",
      "source": [
        "# Menampilkan lima baris pertama dari DataFrame app_reviews_df\n",
        "app_reviews_df.head()"
      ],
      "metadata": {
        "colab": {
          "base_uri": "https://localhost:8080/",
          "height": 521
        },
        "id": "9-pd3jjQndyN",
        "outputId": "8061b2cc-f47c-41f5-b081-ee08decca200"
      },
      "execution_count": null,
      "outputs": [
        {
          "output_type": "execute_result",
          "data": {
            "text/plain": [
              "                               reviewId         userName  \\\n",
              "0  56231128-d8e5-4c21-ba39-30f97e31a0c9  Pengguna Google   \n",
              "1  09f7fc7b-3548-4e50-b5b8-fe4b82413925  Pengguna Google   \n",
              "2  8b7e2a3e-30db-47f8-ae08-4f0e33b2c33d  Pengguna Google   \n",
              "3  b5be5822-2c80-4d93-86fa-0af84f908b4d  Pengguna Google   \n",
              "4  999d7fa2-f73f-432d-89ea-8b2a32db705e  Pengguna Google   \n",
              "\n",
              "                                           userImage  \\\n",
              "0  https://play-lh.googleusercontent.com/EGemoI2N...   \n",
              "1  https://play-lh.googleusercontent.com/EGemoI2N...   \n",
              "2  https://play-lh.googleusercontent.com/EGemoI2N...   \n",
              "3  https://play-lh.googleusercontent.com/EGemoI2N...   \n",
              "4  https://play-lh.googleusercontent.com/EGemoI2N...   \n",
              "\n",
              "                                             content  score  thumbsUpCount  \\\n",
              "0                           Sangat mudah dan praktis      5              0   \n",
              "1                       ngent** mau daftar aja susah      1              0   \n",
              "2                                        lumayan sip      5              0   \n",
              "3  masih suka bug kalau pilih pembayaran qris, su...      3              0   \n",
              "4  aplikasi pukii suruh verivikasi email tapi ga ...      1              0   \n",
              "\n",
              "  reviewCreatedVersion                  at replyContent repliedAt appVersion  \n",
              "0               6.12.1 2025-05-09 08:40:20         None       NaT     6.12.1  \n",
              "1                 None 2025-05-09 08:00:48         None       NaT       None  \n",
              "2               6.12.1 2025-05-09 07:29:50         None       NaT     6.12.1  \n",
              "3               6.12.1 2025-05-09 07:27:59         None       NaT     6.12.1  \n",
              "4               6.12.1 2025-05-09 07:22:33         None       NaT     6.12.1  "
            ],
            "text/html": [
              "\n",
              "  <div id=\"df-e309a290-cf9a-44e3-a8ec-8a3be81d5ae0\" class=\"colab-df-container\">\n",
              "    <div>\n",
              "<style scoped>\n",
              "    .dataframe tbody tr th:only-of-type {\n",
              "        vertical-align: middle;\n",
              "    }\n",
              "\n",
              "    .dataframe tbody tr th {\n",
              "        vertical-align: top;\n",
              "    }\n",
              "\n",
              "    .dataframe thead th {\n",
              "        text-align: right;\n",
              "    }\n",
              "</style>\n",
              "<table border=\"1\" class=\"dataframe\">\n",
              "  <thead>\n",
              "    <tr style=\"text-align: right;\">\n",
              "      <th></th>\n",
              "      <th>reviewId</th>\n",
              "      <th>userName</th>\n",
              "      <th>userImage</th>\n",
              "      <th>content</th>\n",
              "      <th>score</th>\n",
              "      <th>thumbsUpCount</th>\n",
              "      <th>reviewCreatedVersion</th>\n",
              "      <th>at</th>\n",
              "      <th>replyContent</th>\n",
              "      <th>repliedAt</th>\n",
              "      <th>appVersion</th>\n",
              "    </tr>\n",
              "  </thead>\n",
              "  <tbody>\n",
              "    <tr>\n",
              "      <th>0</th>\n",
              "      <td>56231128-d8e5-4c21-ba39-30f97e31a0c9</td>\n",
              "      <td>Pengguna Google</td>\n",
              "      <td>https://play-lh.googleusercontent.com/EGemoI2N...</td>\n",
              "      <td>Sangat mudah dan praktis</td>\n",
              "      <td>5</td>\n",
              "      <td>0</td>\n",
              "      <td>6.12.1</td>\n",
              "      <td>2025-05-09 08:40:20</td>\n",
              "      <td>None</td>\n",
              "      <td>NaT</td>\n",
              "      <td>6.12.1</td>\n",
              "    </tr>\n",
              "    <tr>\n",
              "      <th>1</th>\n",
              "      <td>09f7fc7b-3548-4e50-b5b8-fe4b82413925</td>\n",
              "      <td>Pengguna Google</td>\n",
              "      <td>https://play-lh.googleusercontent.com/EGemoI2N...</td>\n",
              "      <td>ngent** mau daftar aja susah</td>\n",
              "      <td>1</td>\n",
              "      <td>0</td>\n",
              "      <td>None</td>\n",
              "      <td>2025-05-09 08:00:48</td>\n",
              "      <td>None</td>\n",
              "      <td>NaT</td>\n",
              "      <td>None</td>\n",
              "    </tr>\n",
              "    <tr>\n",
              "      <th>2</th>\n",
              "      <td>8b7e2a3e-30db-47f8-ae08-4f0e33b2c33d</td>\n",
              "      <td>Pengguna Google</td>\n",
              "      <td>https://play-lh.googleusercontent.com/EGemoI2N...</td>\n",
              "      <td>lumayan sip</td>\n",
              "      <td>5</td>\n",
              "      <td>0</td>\n",
              "      <td>6.12.1</td>\n",
              "      <td>2025-05-09 07:29:50</td>\n",
              "      <td>None</td>\n",
              "      <td>NaT</td>\n",
              "      <td>6.12.1</td>\n",
              "    </tr>\n",
              "    <tr>\n",
              "      <th>3</th>\n",
              "      <td>b5be5822-2c80-4d93-86fa-0af84f908b4d</td>\n",
              "      <td>Pengguna Google</td>\n",
              "      <td>https://play-lh.googleusercontent.com/EGemoI2N...</td>\n",
              "      <td>masih suka bug kalau pilih pembayaran qris, su...</td>\n",
              "      <td>3</td>\n",
              "      <td>0</td>\n",
              "      <td>6.12.1</td>\n",
              "      <td>2025-05-09 07:27:59</td>\n",
              "      <td>None</td>\n",
              "      <td>NaT</td>\n",
              "      <td>6.12.1</td>\n",
              "    </tr>\n",
              "    <tr>\n",
              "      <th>4</th>\n",
              "      <td>999d7fa2-f73f-432d-89ea-8b2a32db705e</td>\n",
              "      <td>Pengguna Google</td>\n",
              "      <td>https://play-lh.googleusercontent.com/EGemoI2N...</td>\n",
              "      <td>aplikasi pukii suruh verivikasi email tapi ga ...</td>\n",
              "      <td>1</td>\n",
              "      <td>0</td>\n",
              "      <td>6.12.1</td>\n",
              "      <td>2025-05-09 07:22:33</td>\n",
              "      <td>None</td>\n",
              "      <td>NaT</td>\n",
              "      <td>6.12.1</td>\n",
              "    </tr>\n",
              "  </tbody>\n",
              "</table>\n",
              "</div>\n",
              "    <div class=\"colab-df-buttons\">\n",
              "\n",
              "  <div class=\"colab-df-container\">\n",
              "    <button class=\"colab-df-convert\" onclick=\"convertToInteractive('df-e309a290-cf9a-44e3-a8ec-8a3be81d5ae0')\"\n",
              "            title=\"Convert this dataframe to an interactive table.\"\n",
              "            style=\"display:none;\">\n",
              "\n",
              "  <svg xmlns=\"http://www.w3.org/2000/svg\" height=\"24px\" viewBox=\"0 -960 960 960\">\n",
              "    <path d=\"M120-120v-720h720v720H120Zm60-500h600v-160H180v160Zm220 220h160v-160H400v160Zm0 220h160v-160H400v160ZM180-400h160v-160H180v160Zm440 0h160v-160H620v160ZM180-180h160v-160H180v160Zm440 0h160v-160H620v160Z\"/>\n",
              "  </svg>\n",
              "    </button>\n",
              "\n",
              "  <style>\n",
              "    .colab-df-container {\n",
              "      display:flex;\n",
              "      gap: 12px;\n",
              "    }\n",
              "\n",
              "    .colab-df-convert {\n",
              "      background-color: #E8F0FE;\n",
              "      border: none;\n",
              "      border-radius: 50%;\n",
              "      cursor: pointer;\n",
              "      display: none;\n",
              "      fill: #1967D2;\n",
              "      height: 32px;\n",
              "      padding: 0 0 0 0;\n",
              "      width: 32px;\n",
              "    }\n",
              "\n",
              "    .colab-df-convert:hover {\n",
              "      background-color: #E2EBFA;\n",
              "      box-shadow: 0px 1px 2px rgba(60, 64, 67, 0.3), 0px 1px 3px 1px rgba(60, 64, 67, 0.15);\n",
              "      fill: #174EA6;\n",
              "    }\n",
              "\n",
              "    .colab-df-buttons div {\n",
              "      margin-bottom: 4px;\n",
              "    }\n",
              "\n",
              "    [theme=dark] .colab-df-convert {\n",
              "      background-color: #3B4455;\n",
              "      fill: #D2E3FC;\n",
              "    }\n",
              "\n",
              "    [theme=dark] .colab-df-convert:hover {\n",
              "      background-color: #434B5C;\n",
              "      box-shadow: 0px 1px 3px 1px rgba(0, 0, 0, 0.15);\n",
              "      filter: drop-shadow(0px 1px 2px rgba(0, 0, 0, 0.3));\n",
              "      fill: #FFFFFF;\n",
              "    }\n",
              "  </style>\n",
              "\n",
              "    <script>\n",
              "      const buttonEl =\n",
              "        document.querySelector('#df-e309a290-cf9a-44e3-a8ec-8a3be81d5ae0 button.colab-df-convert');\n",
              "      buttonEl.style.display =\n",
              "        google.colab.kernel.accessAllowed ? 'block' : 'none';\n",
              "\n",
              "      async function convertToInteractive(key) {\n",
              "        const element = document.querySelector('#df-e309a290-cf9a-44e3-a8ec-8a3be81d5ae0');\n",
              "        const dataTable =\n",
              "          await google.colab.kernel.invokeFunction('convertToInteractive',\n",
              "                                                    [key], {});\n",
              "        if (!dataTable) return;\n",
              "\n",
              "        const docLinkHtml = 'Like what you see? Visit the ' +\n",
              "          '<a target=\"_blank\" href=https://colab.research.google.com/notebooks/data_table.ipynb>data table notebook</a>'\n",
              "          + ' to learn more about interactive tables.';\n",
              "        element.innerHTML = '';\n",
              "        dataTable['output_type'] = 'display_data';\n",
              "        await google.colab.output.renderOutput(dataTable, element);\n",
              "        const docLink = document.createElement('div');\n",
              "        docLink.innerHTML = docLinkHtml;\n",
              "        element.appendChild(docLink);\n",
              "      }\n",
              "    </script>\n",
              "  </div>\n",
              "\n",
              "\n",
              "    <div id=\"df-aed2eb61-5bbd-465b-bb22-05ec02863228\">\n",
              "      <button class=\"colab-df-quickchart\" onclick=\"quickchart('df-aed2eb61-5bbd-465b-bb22-05ec02863228')\"\n",
              "                title=\"Suggest charts\"\n",
              "                style=\"display:none;\">\n",
              "\n",
              "<svg xmlns=\"http://www.w3.org/2000/svg\" height=\"24px\"viewBox=\"0 0 24 24\"\n",
              "     width=\"24px\">\n",
              "    <g>\n",
              "        <path d=\"M19 3H5c-1.1 0-2 .9-2 2v14c0 1.1.9 2 2 2h14c1.1 0 2-.9 2-2V5c0-1.1-.9-2-2-2zM9 17H7v-7h2v7zm4 0h-2V7h2v10zm4 0h-2v-4h2v4z\"/>\n",
              "    </g>\n",
              "</svg>\n",
              "      </button>\n",
              "\n",
              "<style>\n",
              "  .colab-df-quickchart {\n",
              "      --bg-color: #E8F0FE;\n",
              "      --fill-color: #1967D2;\n",
              "      --hover-bg-color: #E2EBFA;\n",
              "      --hover-fill-color: #174EA6;\n",
              "      --disabled-fill-color: #AAA;\n",
              "      --disabled-bg-color: #DDD;\n",
              "  }\n",
              "\n",
              "  [theme=dark] .colab-df-quickchart {\n",
              "      --bg-color: #3B4455;\n",
              "      --fill-color: #D2E3FC;\n",
              "      --hover-bg-color: #434B5C;\n",
              "      --hover-fill-color: #FFFFFF;\n",
              "      --disabled-bg-color: #3B4455;\n",
              "      --disabled-fill-color: #666;\n",
              "  }\n",
              "\n",
              "  .colab-df-quickchart {\n",
              "    background-color: var(--bg-color);\n",
              "    border: none;\n",
              "    border-radius: 50%;\n",
              "    cursor: pointer;\n",
              "    display: none;\n",
              "    fill: var(--fill-color);\n",
              "    height: 32px;\n",
              "    padding: 0;\n",
              "    width: 32px;\n",
              "  }\n",
              "\n",
              "  .colab-df-quickchart:hover {\n",
              "    background-color: var(--hover-bg-color);\n",
              "    box-shadow: 0 1px 2px rgba(60, 64, 67, 0.3), 0 1px 3px 1px rgba(60, 64, 67, 0.15);\n",
              "    fill: var(--button-hover-fill-color);\n",
              "  }\n",
              "\n",
              "  .colab-df-quickchart-complete:disabled,\n",
              "  .colab-df-quickchart-complete:disabled:hover {\n",
              "    background-color: var(--disabled-bg-color);\n",
              "    fill: var(--disabled-fill-color);\n",
              "    box-shadow: none;\n",
              "  }\n",
              "\n",
              "  .colab-df-spinner {\n",
              "    border: 2px solid var(--fill-color);\n",
              "    border-color: transparent;\n",
              "    border-bottom-color: var(--fill-color);\n",
              "    animation:\n",
              "      spin 1s steps(1) infinite;\n",
              "  }\n",
              "\n",
              "  @keyframes spin {\n",
              "    0% {\n",
              "      border-color: transparent;\n",
              "      border-bottom-color: var(--fill-color);\n",
              "      border-left-color: var(--fill-color);\n",
              "    }\n",
              "    20% {\n",
              "      border-color: transparent;\n",
              "      border-left-color: var(--fill-color);\n",
              "      border-top-color: var(--fill-color);\n",
              "    }\n",
              "    30% {\n",
              "      border-color: transparent;\n",
              "      border-left-color: var(--fill-color);\n",
              "      border-top-color: var(--fill-color);\n",
              "      border-right-color: var(--fill-color);\n",
              "    }\n",
              "    40% {\n",
              "      border-color: transparent;\n",
              "      border-right-color: var(--fill-color);\n",
              "      border-top-color: var(--fill-color);\n",
              "    }\n",
              "    60% {\n",
              "      border-color: transparent;\n",
              "      border-right-color: var(--fill-color);\n",
              "    }\n",
              "    80% {\n",
              "      border-color: transparent;\n",
              "      border-right-color: var(--fill-color);\n",
              "      border-bottom-color: var(--fill-color);\n",
              "    }\n",
              "    90% {\n",
              "      border-color: transparent;\n",
              "      border-bottom-color: var(--fill-color);\n",
              "    }\n",
              "  }\n",
              "</style>\n",
              "\n",
              "      <script>\n",
              "        async function quickchart(key) {\n",
              "          const quickchartButtonEl =\n",
              "            document.querySelector('#' + key + ' button');\n",
              "          quickchartButtonEl.disabled = true;  // To prevent multiple clicks.\n",
              "          quickchartButtonEl.classList.add('colab-df-spinner');\n",
              "          try {\n",
              "            const charts = await google.colab.kernel.invokeFunction(\n",
              "                'suggestCharts', [key], {});\n",
              "          } catch (error) {\n",
              "            console.error('Error during call to suggestCharts:', error);\n",
              "          }\n",
              "          quickchartButtonEl.classList.remove('colab-df-spinner');\n",
              "          quickchartButtonEl.classList.add('colab-df-quickchart-complete');\n",
              "        }\n",
              "        (() => {\n",
              "          let quickchartButtonEl =\n",
              "            document.querySelector('#df-aed2eb61-5bbd-465b-bb22-05ec02863228 button');\n",
              "          quickchartButtonEl.style.display =\n",
              "            google.colab.kernel.accessAllowed ? 'block' : 'none';\n",
              "        })();\n",
              "      </script>\n",
              "    </div>\n",
              "\n",
              "    </div>\n",
              "  </div>\n"
            ],
            "application/vnd.google.colaboratory.intrinsic+json": {
              "type": "dataframe",
              "variable_name": "app_reviews_df"
            }
          },
          "metadata": {},
          "execution_count": 22
        }
      ]
    },
    {
      "cell_type": "code",
      "source": [
        "app_reviews_df.info()"
      ],
      "metadata": {
        "colab": {
          "base_uri": "https://localhost:8080/"
        },
        "id": "EgvU-KN-nm-l",
        "outputId": "6899d0c4-5035-4768-c8f6-93dfb77bbc97"
      },
      "execution_count": null,
      "outputs": [
        {
          "output_type": "stream",
          "name": "stdout",
          "text": [
            "<class 'pandas.core.frame.DataFrame'>\n",
            "RangeIndex: 85741 entries, 0 to 85740\n",
            "Data columns (total 11 columns):\n",
            " #   Column                Non-Null Count  Dtype         \n",
            "---  ------                --------------  -----         \n",
            " 0   reviewId              85741 non-null  object        \n",
            " 1   userName              85741 non-null  object        \n",
            " 2   userImage             85741 non-null  object        \n",
            " 3   content               85730 non-null  object        \n",
            " 4   score                 85741 non-null  int64         \n",
            " 5   thumbsUpCount         85741 non-null  int64         \n",
            " 6   reviewCreatedVersion  68891 non-null  object        \n",
            " 7   at                    85741 non-null  datetime64[ns]\n",
            " 8   replyContent          9810 non-null   object        \n",
            " 9   repliedAt             9810 non-null   datetime64[ns]\n",
            " 10  appVersion            68891 non-null  object        \n",
            "dtypes: datetime64[ns](2), int64(2), object(7)\n",
            "memory usage: 7.2+ MB\n"
          ]
        }
      ]
    }
  ]
}